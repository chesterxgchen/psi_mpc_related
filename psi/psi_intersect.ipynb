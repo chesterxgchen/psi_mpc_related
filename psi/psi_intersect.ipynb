{
 "cells": [
  {
   "cell_type": "code",
   "execution_count": 1,
   "id": "96d90017",
   "metadata": {},
   "outputs": [],
   "source": [
    "\"\"\"This module contains utility functions that expose functionality of PSI.\"\"\"\n",
    "import openmined_psi as psi\n",
    "from openmined_psi import client\n",
    "from openmined_psi import server\n",
    "import pytest"
   ]
  },
  {
   "cell_type": "code",
   "execution_count": 2,
   "id": "2cceb325",
   "metadata": {},
   "outputs": [],
   "source": [
    "def dup(do, msg, dst):\n",
    "    if not do:\n",
    "        return msg\n",
    "    buff = msg.SerializeToString()\n",
    "    dst.ParseFromString(buff)\n",
    "    return dst\n"
   ]
  },
  {
   "cell_type": "code",
   "execution_count": 4,
   "id": "a73e170e",
   "metadata": {},
   "outputs": [],
   "source": [
    "\n",
    "@pytest.mark.parametrize(\"reveal_intersection\", [False, True])\n",
    "@pytest.mark.parametrize(\"duplicate\", [False, True])\n",
    "def test_client_server(reveal_intersection, duplicate):\n",
    "    \n",
    "    print(real_intersection, duplicate)\n",
    "    \n",
    "    c = psi.client.CreateWithNewKey(reveal_intersection)\n",
    "    s = psi.server.CreateWithNewKey(reveal_intersection)\n",
    "\n",
    "    client_items = [\"Element \" + str(i) for i in range(10)]\n",
    "    server_items = [\"Element \" + str(2 * i) for i in range(100)]\n",
    "\n",
    "    fpr = 1.0 / (1000000000)\n",
    "    setup = dup(\n",
    "        duplicate, s.CreateSetupMessage(fpr, len(client_items), server_items), psi.ServerSetup()\n",
    "    )\n",
    "    request = dup(duplicate, c.CreateRequest(client_items), psi.Request())\n",
    "    resp = dup(duplicate, s.ProcessRequest(request), psi.Response())\n",
    "\n",
    "    if reveal_intersection:\n",
    "        intersection = c.GetIntersection(setup, resp)\n",
    "        iset = set(intersection)\n",
    "        for idx in range(len(client_items)):\n",
    "            if idx % 2 == 0:\n",
    "                assert idx in iset\n",
    "            else:\n",
    "                assert idx not in iset\n",
    "    else:\n",
    "        intersection = c.GetIntersectionSize(setup, resp)\n",
    "        assert intersection >= (len(client_items) / 2.0)\n",
    "        assert intersection <= (1.1 * len(client_items) / 2.0)\n"
   ]
  },
  {
   "cell_type": "code",
   "execution_count": 5,
   "id": "c0a91f78",
   "metadata": {},
   "outputs": [
    {
     "ename": "ValueError",
     "evalue": "basic_string::resize",
     "output_type": "error",
     "traceback": [
      "\u001b[0;31m---------------------------------------------------------------------------\u001b[0m",
      "\u001b[0;31mValueError\u001b[0m                                Traceback (most recent call last)",
      "Cell \u001b[0;32mIn [5], line 15\u001b[0m\n\u001b[1;32m     10\u001b[0m server_items \u001b[38;5;241m=\u001b[39m [\u001b[38;5;124m\"\u001b[39m\u001b[38;5;124mElement \u001b[39m\u001b[38;5;124m\"\u001b[39m \u001b[38;5;241m+\u001b[39m \u001b[38;5;28mstr\u001b[39m(\u001b[38;5;241m2\u001b[39m \u001b[38;5;241m*\u001b[39m i) \u001b[38;5;28;01mfor\u001b[39;00m i \u001b[38;5;129;01min\u001b[39;00m \u001b[38;5;28mrange\u001b[39m(\u001b[38;5;241m397\u001b[39m)]\n\u001b[1;32m     13\u001b[0m fpr \u001b[38;5;241m=\u001b[39m \u001b[38;5;241m1.0e-11\u001b[39m\n\u001b[1;32m     14\u001b[0m setup \u001b[38;5;241m=\u001b[39m dup(\n\u001b[0;32m---> 15\u001b[0m         duplicate, \u001b[43ms\u001b[49m\u001b[38;5;241;43m.\u001b[39;49m\u001b[43mCreateSetupMessage\u001b[49m\u001b[43m(\u001b[49m\u001b[43mfpr\u001b[49m\u001b[43m,\u001b[49m\u001b[43m \u001b[49m\u001b[38;5;28;43mlen\u001b[39;49m\u001b[43m(\u001b[49m\u001b[43mclient_items\u001b[49m\u001b[43m)\u001b[49m\u001b[43m,\u001b[49m\u001b[43m \u001b[49m\u001b[43mserver_items\u001b[49m\u001b[43m)\u001b[49m, psi\u001b[38;5;241m.\u001b[39mServerSetup()\n\u001b[1;32m     16\u001b[0m )\n\u001b[1;32m     17\u001b[0m request \u001b[38;5;241m=\u001b[39m dup(duplicate, c\u001b[38;5;241m.\u001b[39mCreateRequest(client_items), psi\u001b[38;5;241m.\u001b[39mRequest())\n\u001b[1;32m     18\u001b[0m resp \u001b[38;5;241m=\u001b[39m dup(duplicate, s\u001b[38;5;241m.\u001b[39mProcessRequest(request), psi\u001b[38;5;241m.\u001b[39mResponse())\n",
      "File \u001b[0;32m~/nvflare-env2/lib/python3.8/site-packages/openmined_psi/__init__.py:140\u001b[0m, in \u001b[0;36mserver.CreateSetupMessage\u001b[0;34m(self, fpr, num_client_inputs, inputs)\u001b[0m\n\u001b[1;32m    129\u001b[0m \u001b[38;5;28;01mdef\u001b[39;00m \u001b[38;5;21mCreateSetupMessage\u001b[39m(\n\u001b[1;32m    130\u001b[0m     \u001b[38;5;28mself\u001b[39m, fpr: \u001b[38;5;28mfloat\u001b[39m, num_client_inputs: \u001b[38;5;28mint\u001b[39m, inputs: List[\u001b[38;5;28mstr\u001b[39m]\n\u001b[1;32m    131\u001b[0m ) \u001b[38;5;241m-\u001b[39m\u001b[38;5;241m>\u001b[39m ServerSetup:\n\u001b[1;32m    132\u001b[0m     \u001b[38;5;124;03m\"\"\"Create a setup message from the server's dataset to be sent to the client.\u001b[39;00m\n\u001b[1;32m    133\u001b[0m \u001b[38;5;124;03m    Args:\u001b[39;00m\n\u001b[1;32m    134\u001b[0m \u001b[38;5;124;03m        fpr: the probability that any query of size `num_client_inputs` will result in a false positive.\u001b[39;00m\n\u001b[0;32m   (...)\u001b[0m\n\u001b[1;32m    138\u001b[0m \u001b[38;5;124;03m        A Protobuf with the setup message.\u001b[39;00m\n\u001b[1;32m    139\u001b[0m \u001b[38;5;124;03m    \"\"\"\u001b[39;00m\n\u001b[0;32m--> 140\u001b[0m     interm_msg \u001b[38;5;241m=\u001b[39m \u001b[38;5;28;43mself\u001b[39;49m\u001b[38;5;241;43m.\u001b[39;49m\u001b[43mdata\u001b[49m\u001b[38;5;241;43m.\u001b[39;49m\u001b[43mCreateSetupMessage\u001b[49m\u001b[43m(\u001b[49m\u001b[43mfpr\u001b[49m\u001b[43m,\u001b[49m\u001b[43m \u001b[49m\u001b[43mnum_client_inputs\u001b[49m\u001b[43m,\u001b[49m\u001b[43m \u001b[49m\u001b[43minputs\u001b[49m\u001b[43m)\u001b[49m\u001b[38;5;241m.\u001b[39msave()\n\u001b[1;32m    141\u001b[0m     msg \u001b[38;5;241m=\u001b[39m ServerSetup()\n\u001b[1;32m    142\u001b[0m     msg\u001b[38;5;241m.\u001b[39mParseFromString(interm_msg)\n",
      "\u001b[0;31mValueError\u001b[0m: basic_string::resize"
     ]
    }
   ],
   "source": [
    "\n",
    "reveal_intersection=True\n",
    "duplicate = True\n",
    "    \n",
    "c = psi.client.CreateWithNewKey(reveal_intersection)\n",
    "s = psi.server.CreateWithNewKey(reveal_intersection)\n",
    "    \n",
    "# client_items_size =  333334\n",
    "# server_items_size =  397    \n",
    "client_items = [\"Element \" + str(i) for i in range(333334)]\n",
    "server_items = [\"Element \" + str(2 * i) for i in range(397)]\n",
    "\n",
    "\n",
    "fpr = 1.0e-11\n",
    "setup = dup(\n",
    "        duplicate, s.CreateSetupMessage(fpr, len(client_items), server_items), psi.ServerSetup()\n",
    ")\n",
    "request = dup(duplicate, c.CreateRequest(client_items), psi.Request())\n",
    "resp = dup(duplicate, s.ProcessRequest(request), psi.Response())\n",
    " \n",
    "\n",
    "if reveal_intersection:\n",
    "    intersection = c.GetIntersection(setup, resp)\n",
    "    iset = set(intersection)\n",
    "    print(\"interset index = \", iset)\n",
    "    for x in iset:\n",
    "        print(\"interset Items = \",client_items[x])\n",
    "    \n",
    "else:\n",
    "    intersection_size= c.GetIntersectionSize(setup, resp)\n",
    "    print(\"size = \", intersection_size)\n"
   ]
  },
  {
   "cell_type": "code",
   "execution_count": 56,
   "id": "55d09343",
   "metadata": {},
   "outputs": [
    {
     "name": "stdout",
     "output_type": "stream",
     "text": [
      "gcs {\n",
      "  div: 38\n",
      "  hash_range: 900000000000\n",
      "}\n",
      "bits: \"\\354\\250s\\352\\276:\\002W\\322\\221\\177\\325.\\031\\025\"\n",
      "\n",
      "gcs {\n",
      "  div: 38\n",
      "  hash_range: 900000000000\n",
      "}\n",
      "bits: \"\\354\\250s\\352\\276:\\002W\\322\\221\\177\\325.\\031\\025\"\n",
      "\n"
     ]
    }
   ],
   "source": [
    " \n",
    "fpr = 1.0e-11\n",
    "setup_msg = s.CreateSetupMessage(fpr, len(client_items), server_items)\n",
    "s_setup = psi.ServerSetup()\n",
    "print(setup_msg)\n",
    "\n",
    "s_msg = setup_msg.SerializeToString()\n",
    "s_setup.ParseFromString(s_msg)\n",
    "\n",
    "print(s_setup)\n"
   ]
  },
  {
   "cell_type": "code",
   "execution_count": 58,
   "id": "a84e81fc",
   "metadata": {},
   "outputs": [
    {
     "name": "stdout",
     "output_type": "stream",
     "text": [
      "encrypted_elements: \"\\002\\r\\323ps\\267\\222\\0068m\\216!\\243\\253\\0215h\\220\\303\\210T;\\263$\\227\\233\\007\\364\\372YR^_\"\n",
      "encrypted_elements: \"\\003f\\347e\\337E\\241\\272\\233\\265\\354\\2649\\301h\\257T\\r\\232^\\2540\\207\\223\\256\\035(\\3138ZS\\373\\247\"\n",
      "encrypted_elements: \"\\003s\\300\\217\\262\\216\\003>]Li@\\n{\\365n\\260\\372)\\343Ld\\226i\\343\\340E\\216\\362\\n@\\014\\266\"\n",
      "\n",
      "encrypted_elements: \"\\002\\r\\323ps\\267\\222\\0068m\\216!\\243\\253\\0215h\\220\\303\\210T;\\263$\\227\\233\\007\\364\\372YR^_\"\n",
      "encrypted_elements: \"\\003f\\347e\\337E\\241\\272\\233\\265\\354\\2649\\301h\\257T\\r\\232^\\2540\\207\\223\\256\\035(\\3138ZS\\373\\247\"\n",
      "encrypted_elements: \"\\003s\\300\\217\\262\\216\\003>]Li@\\n{\\365n\\260\\372)\\343Ld\\226i\\343\\340E\\216\\362\\n@\\014\\266\"\n",
      "\n"
     ]
    }
   ],
   "source": [
    "resp_msg = s.ProcessRequest(request)\n",
    "print(resp_msg)\n",
    "s_msg = resp_msg.SerializeToString()\n",
    "\n",
    "s_response = psi.Response()\n",
    "s_response.ParseFromString(s_msg)\n",
    "print(s_response)\n",
    "\n"
   ]
  },
  {
   "cell_type": "code",
   "execution_count": 14,
   "id": "f6ab4292",
   "metadata": {},
   "outputs": [
    {
     "data": {
      "text/plain": [
       "b'\\x08\\x01\\x12!\\x03\\xc78\\x1d.7\\xaa\\xf8t\\xa1\\x17#\\x92R\\xe7L\\r\\xdf\\x86P\\xa0.H\\x96\\xd6\\x92\\xbf\\xd6~X\"\\xff \\x12!\\x02\\n\\x04C\\xf6\\x07Q\\x9e\\xa7\\xa88\\x0fO\\x0c\\xb7\\x87/M\\xfe^x%9w\\xc5\\xe9b\\x9d\\x93U\\xeahk\\x12!\\x03\\xb4#\\xed\\x04\\x84\\xc4\\xb2\\tl\\x89>\\x07\\x10+\\x08m\\x96%\\xc1\\xa0S\\x9e\\x889\\xf73\\xc0)5%\\x17\\x06'"
      ]
     },
     "execution_count": 14,
     "metadata": {},
     "output_type": "execute_result"
    }
   ],
   "source": [
    "buff = r.SerializeToString()"
   ]
  },
  {
   "cell_type": "code",
   "execution_count": 49,
   "id": "6696b010",
   "metadata": {},
   "outputs": [
    {
     "name": "stdout",
     "output_type": "stream",
     "text": [
      "r1 =  reveal_intersection: true\n",
      "encrypted_elements: \"\\002lX\\003?\\346\\242\\352\\002\\370\\010\\336\\017kxx\\254|n\\303\\245M\\337\\373m\\0143\\1774\\2734\\216\\337\"\n",
      "encrypted_elements: \"\\003\\013\\240\\235\\306.\\273\\217o\\370\\360\\216\\367#k-\\266\\374r2\\002\\376j^\\200\\007U\\006\\350 \\272\\367\\333\"\n",
      "encrypted_elements: \"\\003i\\023\\327-P\\264\\253_,\\2210%\\211\\302\\373\\301\\300\\373FF\\026x!\\026\\017O\\013\\243JxO\\324\"\n",
      "\n",
      "r2 =  \n"
     ]
    }
   ],
   "source": [
    "print(\"r1 = \", r)\n",
    "buff = r.SerializeToString()\n",
    "r2 = psi.Response()\n",
    "r2.ParseFromString(buff)\n",
    "print(\"r2 = \", r2)"
   ]
  },
  {
   "cell_type": "code",
   "execution_count": null,
   "id": "b4c91225",
   "metadata": {},
   "outputs": [],
   "source": []
  }
 ],
 "metadata": {
  "kernelspec": {
   "display_name": "Python 3 (ipykernel)",
   "language": "python",
   "name": "python3"
  },
  "language_info": {
   "codemirror_mode": {
    "name": "ipython",
    "version": 3
   },
   "file_extension": ".py",
   "mimetype": "text/x-python",
   "name": "python",
   "nbconvert_exporter": "python",
   "pygments_lexer": "ipython3",
   "version": "3.8.16"
  }
 },
 "nbformat": 4,
 "nbformat_minor": 5
}
