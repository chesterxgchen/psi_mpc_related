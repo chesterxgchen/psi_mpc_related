{
 "cells": [
  {
   "cell_type": "code",
   "execution_count": 15,
   "id": "96d90017",
   "metadata": {},
   "outputs": [
    {
     "ename": "ImportError",
     "evalue": "cannot import name 'dup' from 'openmined_psi' (/home/chester/nvflare-env2/lib/python3.8/site-packages/openmined_psi/__init__.py)",
     "output_type": "error",
     "traceback": [
      "\u001b[0;31m---------------------------------------------------------------------------\u001b[0m",
      "\u001b[0;31mImportError\u001b[0m                               Traceback (most recent call last)",
      "Cell \u001b[0;32mIn [15], line 5\u001b[0m\n\u001b[1;32m      3\u001b[0m \u001b[38;5;28;01mfrom\u001b[39;00m \u001b[38;5;21;01mopenmined_psi\u001b[39;00m \u001b[38;5;28;01mimport\u001b[39;00m client\n\u001b[1;32m      4\u001b[0m \u001b[38;5;28;01mfrom\u001b[39;00m \u001b[38;5;21;01mopenmined_psi\u001b[39;00m \u001b[38;5;28;01mimport\u001b[39;00m server\n\u001b[0;32m----> 5\u001b[0m \u001b[38;5;28;01mfrom\u001b[39;00m \u001b[38;5;21;01mopenmined_psi\u001b[39;00m \u001b[38;5;28;01mimport\u001b[39;00m dup\n\u001b[1;32m      6\u001b[0m \u001b[38;5;28;01mimport\u001b[39;00m \u001b[38;5;21;01mpytest\u001b[39;00m\n",
      "\u001b[0;31mImportError\u001b[0m: cannot import name 'dup' from 'openmined_psi' (/home/chester/nvflare-env2/lib/python3.8/site-packages/openmined_psi/__init__.py)"
     ]
    }
   ],
   "source": [
    "\"\"\"This module contains utility functions that expose functionality of PSI.\"\"\"\n",
    "import openmined_psi as psi\n",
    "from openmined_psi import client\n",
    "from openmined_psi import server\n",
    "import pytest"
   ]
  },
  {
   "cell_type": "code",
   "execution_count": 16,
   "id": "2cceb325",
   "metadata": {},
   "outputs": [],
   "source": [
    "def dup(do, msg, dst):\n",
    "    if not do:\n",
    "        return msg\n",
    "    buff = msg.SerializeToString()\n",
    "    dst.ParseFromString(buff)\n",
    "    return dst\n"
   ]
  },
  {
   "cell_type": "code",
   "execution_count": 27,
   "id": "a73e170e",
   "metadata": {},
   "outputs": [],
   "source": [
    "\n",
    "@pytest.mark.parametrize(\"reveal_intersection\", [False, True])\n",
    "@pytest.mark.parametrize(\"duplicate\", [False, True])\n",
    "def test_client_server(reveal_intersection, duplicate):\n",
    "    \n",
    "    print(real_intersection, duplicate)\n",
    "    \n",
    "    c = psi.client.CreateWithNewKey(reveal_intersection)\n",
    "    s = psi.server.CreateWithNewKey(reveal_intersection)\n",
    "\n",
    "    client_items = [\"Element \" + str(i) for i in range(10)]\n",
    "    server_items = [\"Element \" + str(2 * i) for i in range(100)]\n",
    "\n",
    "    fpr = 1.0 / (1000000000)\n",
    "    setup = dup(\n",
    "        duplicate, s.CreateSetupMessage(fpr, len(client_items), server_items), psi.ServerSetup()\n",
    "    )\n",
    "    request = dup(duplicate, c.CreateRequest(client_items), psi.Request())\n",
    "    resp = dup(duplicate, s.ProcessRequest(request), psi.Response())\n",
    "\n",
    "    if reveal_intersection:\n",
    "        intersection = c.GetIntersection(setup, resp)\n",
    "        iset = set(intersection)\n",
    "        for idx in range(len(client_items)):\n",
    "            if idx % 2 == 0:\n",
    "                assert idx in iset\n",
    "            else:\n",
    "                assert idx not in iset\n",
    "    else:\n",
    "        intersection = c.GetIntersectionSize(setup, resp)\n",
    "        assert intersection >= (len(client_items) / 2.0)\n",
    "        assert intersection <= (1.1 * len(client_items) / 2.0)\n"
   ]
  },
  {
   "cell_type": "code",
   "execution_count": 72,
   "id": "c0a91f78",
   "metadata": {},
   "outputs": [
    {
     "name": "stdout",
     "output_type": "stream",
     "text": [
      "client =  ['1', '2', '3']\n",
      "server =  ['4', '3', '5']\n",
      "interset index =  {2}\n",
      "interset Items =  3\n"
     ]
    }
   ],
   "source": [
    "\n",
    "reveal_intersection=True\n",
    "duplicate = False\n",
    "    \n",
    "c = psi.client.CreateWithNewKey(reveal_intersection)\n",
    "s = psi.server.CreateWithNewKey(reveal_intersection)\n",
    "\n",
    "client_items = [str(y) for y in [\"1\", \"2\", \"3\" ]]\n",
    "server_items = [str(x) for x in [\"4\", \"3\", \"5\"]]\n",
    "\n",
    "\n",
    "fpr = 1.0e-11\n",
    "setup = dup(\n",
    "        duplicate, s.CreateSetupMessage(fpr, len(client_items), server_items), psi.ServerSetup()\n",
    ")\n",
    "request = dup(duplicate, c.CreateRequest(client_items), psi.Request())\n",
    "resp = dup(duplicate, s.ProcessRequest(request), psi.Response())\n",
    " \n",
    "\n",
    "if reveal_intersection:\n",
    "    intersection = c.GetIntersection(setup, resp)\n",
    "    iset = set(intersection)\n",
    "    print(\"client = \", client_items)\n",
    "    print(\"server = \", server_items)\n",
    "    print(\"interset index = \", iset)\n",
    "    for x in iset:\n",
    "        print(\"interset Items = \",client_items[x])\n",
    "    \n",
    "else:\n",
    "    intersection_size= c.GetIntersectionSize(setup, resp)\n",
    "    print(\"size = \", intersection_size)\n"
   ]
  },
  {
   "cell_type": "code",
   "execution_count": null,
   "id": "55d09343",
   "metadata": {},
   "outputs": [],
   "source": []
  }
 ],
 "metadata": {
  "kernelspec": {
   "display_name": "Python 3 (ipykernel)",
   "language": "python",
   "name": "python3"
  },
  "language_info": {
   "codemirror_mode": {
    "name": "ipython",
    "version": 3
   },
   "file_extension": ".py",
   "mimetype": "text/x-python",
   "name": "python",
   "nbconvert_exporter": "python",
   "pygments_lexer": "ipython3",
   "version": "3.8.16"
  }
 },
 "nbformat": 4,
 "nbformat_minor": 5
}
