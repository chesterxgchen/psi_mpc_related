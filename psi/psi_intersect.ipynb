{
 "cells": [
  {
   "cell_type": "code",
   "execution_count": 1,
   "id": "96d90017",
   "metadata": {},
   "outputs": [],
   "source": [
    "\"\"\"This module contains utility functions that expose functionality of PSI.\"\"\"\n",
    "\n",
    "## PSI version 0.3.5\n",
    "\n",
    "import openmined_psi as psi\n",
    "from openmined_psi import client\n",
    "from openmined_psi import server\n",
    "import pytest"
   ]
  },
  {
   "cell_type": "code",
   "execution_count": 1,
   "id": "9b92c347",
   "metadata": {},
   "outputs": [],
   "source": [
    "## PSI version 1.0.1\n",
    "\n",
    "import private_set_intersection.python as psi\n",
    "from private_set_intersection.python import client\n",
    "from private_set_intersection.python import server\n",
    "import pytest"
   ]
  },
  {
   "cell_type": "code",
   "execution_count": 2,
   "id": "2cceb325",
   "metadata": {},
   "outputs": [],
   "source": [
    "def dup(do, msg, dst):\n",
    "    if not do:\n",
    "        return msg\n",
    "    buff = msg.SerializeToString()\n",
    "    dst.ParseFromString(buff)\n",
    "    return dst\n"
   ]
  },
  {
   "cell_type": "code",
   "execution_count": 6,
   "id": "a73e170e",
   "metadata": {},
   "outputs": [],
   "source": [
    "\n",
    "@pytest.mark.parametrize(\"reveal_intersection\", [False, True])\n",
    "@pytest.mark.parametrize(\"duplicate\", [False, True])\n",
    "def test_client_server(reveal_intersection, duplicate):\n",
    "    \n",
    "    print(real_intersection, duplicate)\n",
    "    \n",
    "    c = psi.client.CreateWithNewKey(reveal_intersection)\n",
    "    s = psi.server.CreateWithNewKey(reveal_intersection)\n",
    "\n",
    "    client_items = [\"Element \" + str(i) for i in range(10)]\n",
    "    server_items = [\"Element \" + str(2 * i) for i in range(100)]\n",
    "\n",
    "    fpr = 1.0 / (1000000000)\n",
    "    setup = dup(\n",
    "        duplicate, s.CreateSetupMessage(fpr, len(client_items), server_items), psi.ServerSetup()\n",
    "    )\n",
    "    request = dup(duplicate, c.CreateRequest(client_items), psi.Request())\n",
    "    resp = dup(duplicate, s.ProcessRequest(request), psi.Response())\n",
    "\n",
    "    if reveal_intersection:\n",
    "        intersection = c.GetIntersection(setup, resp)\n",
    "        iset = set(intersection)\n",
    "        for idx in range(len(client_items)):\n",
    "            if idx % 2 == 0:\n",
    "                assert idx in iset\n",
    "            else:\n",
    "                assert idx not in iset\n",
    "    else:\n",
    "        intersection = c.GetIntersectionSize(setup, resp)\n",
    "        assert intersection >= (len(client_items) / 2.0)\n",
    "        assert intersection <= (1.1 * len(client_items) / 2.0)\n"
   ]
  },
  {
   "cell_type": "code",
   "execution_count": 10,
   "id": "c0a91f78",
   "metadata": {},
   "outputs": [
    {
     "ename": "ValueError",
     "evalue": "basic_string::_M_replace_aux",
     "output_type": "error",
     "traceback": [
      "\u001b[0;31m---------------------------------------------------------------------------\u001b[0m",
      "\u001b[0;31mValueError\u001b[0m                                Traceback (most recent call last)",
      "Cell \u001b[0;32mIn [10], line 15\u001b[0m\n\u001b[1;32m     10\u001b[0m server_items \u001b[38;5;241m=\u001b[39m [\u001b[38;5;124m\"\u001b[39m\u001b[38;5;124mElement \u001b[39m\u001b[38;5;124m\"\u001b[39m \u001b[38;5;241m+\u001b[39m \u001b[38;5;28mstr\u001b[39m(\u001b[38;5;241m2\u001b[39m \u001b[38;5;241m*\u001b[39m i) \u001b[38;5;28;01mfor\u001b[39;00m i \u001b[38;5;129;01min\u001b[39;00m \u001b[38;5;28mrange\u001b[39m(\u001b[38;5;241m397\u001b[39m)]\n\u001b[1;32m     13\u001b[0m fpr \u001b[38;5;241m=\u001b[39m \u001b[38;5;241m1.0e-11\u001b[39m\n\u001b[1;32m     14\u001b[0m setup \u001b[38;5;241m=\u001b[39m dup(\n\u001b[0;32m---> 15\u001b[0m         duplicate, \u001b[43ms\u001b[49m\u001b[38;5;241;43m.\u001b[39;49m\u001b[43mCreateSetupMessage\u001b[49m\u001b[43m(\u001b[49m\u001b[43mfpr\u001b[49m\u001b[43m,\u001b[49m\u001b[43m \u001b[49m\u001b[38;5;28;43mlen\u001b[39;49m\u001b[43m(\u001b[49m\u001b[43mclient_items\u001b[49m\u001b[43m)\u001b[49m\u001b[43m,\u001b[49m\u001b[43m \u001b[49m\u001b[43mserver_items\u001b[49m\u001b[43m)\u001b[49m, psi\u001b[38;5;241m.\u001b[39mServerSetup()\n\u001b[1;32m     16\u001b[0m )\n\u001b[1;32m     17\u001b[0m request \u001b[38;5;241m=\u001b[39m dup(duplicate, c\u001b[38;5;241m.\u001b[39mCreateRequest(client_items), psi\u001b[38;5;241m.\u001b[39mRequest())\n\u001b[1;32m     18\u001b[0m resp \u001b[38;5;241m=\u001b[39m dup(duplicate, s\u001b[38;5;241m.\u001b[39mProcessRequest(request), psi\u001b[38;5;241m.\u001b[39mResponse())\n",
      "File \u001b[0;32m~/nvflare-env2/lib/python3.8/site-packages/private_set_intersection/python/__init__.py:145\u001b[0m, in \u001b[0;36mserver.CreateSetupMessage\u001b[0;34m(self, fpr, num_client_inputs, inputs, ds)\u001b[0m\n\u001b[1;32m    133\u001b[0m \u001b[38;5;28;01mdef\u001b[39;00m \u001b[38;5;21mCreateSetupMessage\u001b[39m(\n\u001b[1;32m    134\u001b[0m     \u001b[38;5;28mself\u001b[39m, fpr: \u001b[38;5;28mfloat\u001b[39m, num_client_inputs: \u001b[38;5;28mint\u001b[39m, inputs: List[\u001b[38;5;28mstr\u001b[39m], ds\u001b[38;5;241m=\u001b[39mDataStructure\u001b[38;5;241m.\u001b[39mGCS\n\u001b[1;32m    135\u001b[0m ) \u001b[38;5;241m-\u001b[39m\u001b[38;5;241m>\u001b[39m ServerSetup:\n\u001b[1;32m    136\u001b[0m     \u001b[38;5;124;03m\"\"\"Create a setup message from the server's dataset to be sent to the client.\u001b[39;00m\n\u001b[1;32m    137\u001b[0m \u001b[38;5;124;03m    Args:\u001b[39;00m\n\u001b[1;32m    138\u001b[0m \u001b[38;5;124;03m        fpr: the probability that any query of size `num_client_inputs` will result in a false positive.\u001b[39;00m\n\u001b[0;32m   (...)\u001b[0m\n\u001b[1;32m    143\u001b[0m \u001b[38;5;124;03m        A Protobuf with the setup message.\u001b[39;00m\n\u001b[1;32m    144\u001b[0m \u001b[38;5;124;03m    \"\"\"\u001b[39;00m\n\u001b[0;32m--> 145\u001b[0m     interm_msg \u001b[38;5;241m=\u001b[39m \u001b[38;5;28;43mself\u001b[39;49m\u001b[38;5;241;43m.\u001b[39;49m\u001b[43mdata\u001b[49m\u001b[38;5;241;43m.\u001b[39;49m\u001b[43mCreateSetupMessage\u001b[49m\u001b[43m(\u001b[49m\u001b[43mfpr\u001b[49m\u001b[43m,\u001b[49m\u001b[43m \u001b[49m\u001b[43mnum_client_inputs\u001b[49m\u001b[43m,\u001b[49m\u001b[43m \u001b[49m\u001b[43minputs\u001b[49m\u001b[43m,\u001b[49m\u001b[43m \u001b[49m\u001b[43mds\u001b[49m\u001b[38;5;241;43m.\u001b[39;49m\u001b[43mvalue\u001b[49m\u001b[43m)\u001b[49m\u001b[38;5;241m.\u001b[39msave()\n\u001b[1;32m    146\u001b[0m     msg \u001b[38;5;241m=\u001b[39m ServerSetup()\n\u001b[1;32m    147\u001b[0m     msg\u001b[38;5;241m.\u001b[39mParseFromString(interm_msg)\n",
      "\u001b[0;31mValueError\u001b[0m: basic_string::_M_replace_aux"
     ]
    }
   ],
   "source": [
    "\n",
    "reveal_intersection=True\n",
    "duplicate = True\n",
    "    \n",
    "c = psi.client.CreateWithNewKey(reveal_intersection)\n",
    "s = psi.server.CreateWithNewKey(reveal_intersection)\n",
    "    \n",
    "# client_items_size =  333334\n",
    "# server_items_size =  397    \n",
    "client_items = [\"Element \" + str(i) for i in range(333334)]\n",
    "server_items = [\"Element \" + str(2 * i) for i in range(397)]\n",
    "\n",
    "\n",
    "fpr = 1.0e-11\n",
    "setup = dup(\n",
    "        duplicate, s.CreateSetupMessage(fpr, len(client_items), server_items), psi.ServerSetup()\n",
    ")\n",
    "request = dup(duplicate, c.CreateRequest(client_items), psi.Request())\n",
    "resp = dup(duplicate, s.ProcessRequest(request), psi.Response())\n",
    " \n",
    "\n",
    "if reveal_intersection:\n",
    "    intersection = c.GetIntersection(setup, resp)\n",
    "    iset = set(intersection)\n",
    "    print(\"interset index = \", iset)\n",
    "    for x in iset:\n",
    "        print(\"interset Items = \",client_items[x])\n",
    "    \n",
    "else:\n",
    "    intersection_size= c.GetIntersectionSize(setup, resp)\n",
    "    print(\"size = \", intersection_size)\n"
   ]
  },
  {
   "cell_type": "code",
   "execution_count": 9,
   "id": "55d09343",
   "metadata": {},
   "outputs": [
    {
     "name": "stdout",
     "output_type": "stream",
     "text": [
      "interset index =  {0, 3, 6, 9, 12, 15, 18, 21, 24}\n",
      "interset size =  9\n",
      "interset Items =  user_id-100\n",
      "interset Items =  user_id-112\n",
      "interset Items =  user_id-124\n",
      "interset Items =  user_id-136\n",
      "interset Items =  user_id-148\n",
      "interset Items =  user_id-160\n",
      "interset Items =  user_id-172\n",
      "interset Items =  user_id-184\n",
      "interset Items =  user_id-196\n"
     ]
    }
   ],
   "source": [
    "\n",
    "reveal_intersection=True\n",
    "duplicate = True\n",
    "\n",
    "fpr = 1.0e-11\n",
    "\n",
    "c = psi.client.CreateWithNewKey(reveal_intersection)\n",
    "s = psi.server.CreateWithNewKey(reveal_intersection)\n",
    "   \n",
    "\n",
    "server_items = ['user_id-100', 'user_id-106', 'user_id-112', 'user_id-118', 'user_id-124', 'user_id-130', 'user_id-136', 'user_id-142', 'user_id-148', 'user_id-154', 'user_id-160', 'user_id-166', 'user_id-172', 'user_id-178', 'user_id-184', 'user_id-190', 'user_id-196']\n",
    "client_items = ['user_id-100', 'user_id-104', 'user_id-108', 'user_id-112', 'user_id-116', 'user_id-120', 'user_id-124', 'user_id-128', 'user_id-132', 'user_id-136', 'user_id-140', 'user_id-144', 'user_id-148', 'user_id-152', 'user_id-156', 'user_id-160', 'user_id-164', 'user_id-168', 'user_id-172', 'user_id-176', 'user_id-180', 'user_id-184', 'user_id-188', 'user_id-192', 'user_id-196', 'user_id-200', 'user_id-204', 'user_id-208', 'user_id-212', 'user_id-216', 'user_id-220', 'user_id-224', 'user_id-228', 'user_id-232', 'user_id-236', 'user_id-240', 'user_id-244', 'user_id-248', 'user_id-252', 'user_id-256', 'user_id-260', 'user_id-264', 'user_id-268', 'user_id-272', 'user_id-276', 'user_id-280', 'user_id-284', 'user_id-288', 'user_id-292', 'user_id-296']  \n",
    "\n",
    "\n",
    "setup = dup(\n",
    "        duplicate, s.CreateSetupMessage(fpr, len(client_items), server_items), psi.ServerSetup()\n",
    ")\n",
    "request = dup(duplicate, c.CreateRequest(client_items), psi.Request())\n",
    "resp = dup(duplicate, s.ProcessRequest(request), psi.Response())\n",
    " \n",
    "\n",
    "if reveal_intersection:\n",
    "    intersection = c.GetIntersection(setup, resp)\n",
    "    iset = set(intersection)\n",
    "    print(\"interset index = \", iset)\n",
    "    print(\"interset size = \", len(iset))\n",
    "    for x in iset:\n",
    "        print(\"interset Items = \",client_items[x])\n",
    "    \n",
    "    \n",
    "else:\n",
    "    intersection_size= c.GetIntersectionSize(setup, resp)\n",
    "    print(\"size = \", intersection_size)\n",
    "\n",
    "\n",
    "    \n",
    "    \n",
    "    \n",
    "    "
   ]
  },
  {
   "cell_type": "code",
   "execution_count": null,
   "id": "a84e81fc",
   "metadata": {},
   "outputs": [],
   "source": []
  },
  {
   "cell_type": "code",
   "execution_count": null,
   "id": "f6ab4292",
   "metadata": {},
   "outputs": [],
   "source": []
  },
  {
   "cell_type": "code",
   "execution_count": null,
   "id": "6696b010",
   "metadata": {},
   "outputs": [],
   "source": []
  },
  {
   "cell_type": "code",
   "execution_count": null,
   "id": "b4c91225",
   "metadata": {},
   "outputs": [],
   "source": []
  }
 ],
 "metadata": {
  "kernelspec": {
   "display_name": "Python 3 (ipykernel)",
   "language": "python",
   "name": "python3"
  },
  "language_info": {
   "codemirror_mode": {
    "name": "ipython",
    "version": 3
   },
   "file_extension": ".py",
   "mimetype": "text/x-python",
   "name": "python",
   "nbconvert_exporter": "python",
   "pygments_lexer": "ipython3",
   "version": "3.8.16"
  }
 },
 "nbformat": 4,
 "nbformat_minor": 5
}
